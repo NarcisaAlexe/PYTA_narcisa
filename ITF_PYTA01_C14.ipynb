{
 "cells": [
  {
   "cell_type": "markdown",
   "id": "b25114ac",
   "metadata": {},
   "source": [
    "# HTTP Methods"
   ]
  },
  {
   "cell_type": "code",
   "execution_count": null,
   "id": "3de242e6",
   "metadata": {},
   "outputs": [],
   "source": [
    "# metode: GET, POST, DELETE, PUT, PATCH, HEAD, OPTIONS, CONNECT, TRACE"
   ]
  },
  {
   "cell_type": "code",
   "execution_count": null,
   "id": "04443e41",
   "metadata": {},
   "outputs": [],
   "source": [
    "# GET requests:\n",
    "# - cele mai uzuale tip de request-uri, este cel pe care il face browser-ul in momentul in care intram pe orice site\n",
    "# - folosite in general pt a cere informatie de la server (de ex: cerem cartile autorului George R.R. Matin)\n",
    "# - nu au request body\n",
    "# - informatia trimisa catre server apare in URL sub forma de parametrii\n",
    "\n",
    "# exemple de GET (nu functioneaza evident...)\n",
    "r = requests.get(url=\"https://our_library_site.com/library/books?author=GRRM\") \n",
    "r = requests.get(url=\"https://our_library_site.com/library/books/GRRM\") \n",
    "\n",
    "# POST requests:\n",
    "# - folosite pentru a trimite informatie catre server\n",
    "# - au request body unde se incarca datele de trimis\n",
    "# - informatia nu apare in URL\n",
    "\n",
    "r = requests.post(url=\"https://our_library_site.com/library/books/author\", json={\"author_name\": \"GRRM\"}) \n",
    "# json={\"author_name\": \"GRRM\"} e body-ul requestului sub forma de json\n",
    "\n",
    "# PUT requests:\n",
    "# - folosite pentru a actualiza integral o resursa, daca aceasta nu exista se poate sau nu crea\n",
    "# - are fie request body, fie parametrii\n",
    "\n",
    "r = requests.put(url=\"https://our_library_site.com/library/books/author/1\", json={\"author_website\": \"www.grrm.com\", \"author_name\": \"George R R Martin\"}) \n",
    "\n",
    "\n",
    "# PATCH requests:\n",
    "# - folosite pentru a actualiza partial o resursa (anumite campuri)\n",
    "\n",
    "r = requests.patch(url=\"https://our_library_site.com/library/books/author/1\", json={\"author_name\": \"George R R Martin\"})   # nu tre precizate toate campurile authorului (cum ar fi website)\n",
    " \n",
    "# DELETE requests:\n",
    "# - folosite pentru a sterge o resursa\n",
    "\n",
    "r = requests.delete(url=\"https://our_library_site.com/library/books/author/delete/1\")  "
   ]
  },
  {
   "cell_type": "code",
   "execution_count": null,
   "id": "5dcfab17",
   "metadata": {},
   "outputs": [],
   "source": [
    "# Ce tip de request credeti ca e folosit pentru autentificare si de ce?\n",
    "# POST - fiindca nu vrem ca informatia despre user sa apara in URL!!!"
   ]
  },
  {
   "cell_type": "code",
   "execution_count": null,
   "id": "baf693bc",
   "metadata": {},
   "outputs": [],
   "source": [
    "# CRUD Operations (Create-Read-Update-Delete)\n",
    "# - sunt operatiile care pot fi facute pe o baza de date si sunt aferente metodelor HTTP\n",
    "\n",
    "# Create: adaugarea unei noi intrari in DB - POST\n",
    "# Read: citim intrari din DB - GET\n",
    "# Update: actualizarea unei/unor intrari din DB - PUT/PATCH\n",
    "# Delete: stergerea unei intrari din DB - DELETE"
   ]
  },
  {
   "cell_type": "code",
   "execution_count": null,
   "id": "0162817e",
   "metadata": {},
   "outputs": [],
   "source": [
    "# DB\n",
    "library_db = {\n",
    "    \"books\": [\n",
    "        {\n",
    "            \"id\": \"buid1\"\n",
    "            \"title\": \"A song of ice and fire 1\",\n",
    "            \"author\": \"George R. R. Martin\",\n",
    "            \"pages\": 700,\n",
    "            \"category\": \"Fantasy\"\n",
    "        },\n",
    "        {\n",
    "            \"id\": \"buid2\"\n",
    "            \"title\": \"Moara cu noroc\",\n",
    "            \"author\": \"Ioan Slavici\",\n",
    "            \"pages\": 50,\n",
    "            \"category\": \"Nouvel\"\n",
    "        }\n",
    "    ],\n",
    "    \"users\": [\n",
    "        {\n",
    "            \"id\": \"uuid1\",\n",
    "            \"name\": \"primul\",\n",
    "            \"email\": \"primul@mylib.com\",\n",
    "            \"password\": \"1111\",\n",
    "            \"is_logged\": False\n",
    "        },\n",
    "        {\n",
    "            \"id\": \"uuid2\",\n",
    "            \"name\": \"second\",\n",
    "            \"email\": \"second@mylib.com\",\n",
    "            \"password\": \"2222\",\n",
    "            \"is_logged\": False\n",
    "        },\n",
    "        {\n",
    "            \"id\": \"uuid3\",\n",
    "            \"name\": \"terzo\",\n",
    "            \"email\": \"terzo@mylib.com\",\n",
    "            \"password\": \"3333\",\n",
    "            \"is_logged\": False\n",
    "        },\n",
    "    ]\n",
    "}"
   ]
  },
  {
   "cell_type": "code",
   "execution_count": null,
   "id": "adbe3c11",
   "metadata": {},
   "outputs": [],
   "source": [
    "my_new_book =         {\n",
    "            \"id\": \"buid3\"\n",
    "            \"title\": \"Moara cu noroc\",\n",
    "            \"author\": \"Ioan Slavici\",\n",
    "            \"pages\": 50,\n",
    "            \"category\": \"Nouvel\"\n",
    "        }"
   ]
  },
  {
   "cell_type": "code",
   "execution_count": 1,
   "id": "ea5e33c0",
   "metadata": {},
   "outputs": [],
   "source": [
    "import requests"
   ]
  },
  {
   "cell_type": "code",
   "execution_count": 2,
   "id": "9c5fe7a9",
   "metadata": {},
   "outputs": [
    {
     "name": "stdout",
     "output_type": "stream",
     "text": [
      "200\n",
      "https://api.genderize.io/?name=Maria\n",
      "{'count': 2687884, 'gender': 'female', 'name': 'Maria', 'probability': 1.0}\n"
     ]
    }
   ],
   "source": [
    "# API care prezice genul unei persoane in functie de nume\n",
    "url = \"https://api.genderize.io/?name=Maria\"  # avem un query param name\n",
    "r = requests.get(url)\n",
    "print(r.status_code)\n",
    "print(r.url)\n",
    "print(r.json())"
   ]
  },
  {
   "cell_type": "code",
   "execution_count": 4,
   "id": "1a6e333f",
   "metadata": {},
   "outputs": [
    {
     "name": "stdout",
     "output_type": "stream",
     "text": [
      "200\n",
      "https://api.genderize.io/?name=Andrea\n",
      "{'count': 1058881, 'gender': 'female', 'name': 'Andrea', 'probability': 0.82}\n"
     ]
    }
   ],
   "source": [
    "url = \"https://api.genderize.io/\"\n",
    "# cu libraria requests, query params le putem trimite si printr-un dict\n",
    "query_params = {\"name\": \"Andrea\"}\n",
    "r = requests.get(url, params=query_params)\n",
    "print(r.status_code)\n",
    "print(r.url)\n",
    "print(r.json())"
   ]
  },
  {
   "cell_type": "code",
   "execution_count": 3,
   "id": "be3a6e59",
   "metadata": {},
   "outputs": [],
   "source": [
    "requests.get?"
   ]
  },
  {
   "cell_type": "code",
   "execution_count": 8,
   "id": "642f2bdc",
   "metadata": {},
   "outputs": [
    {
     "name": "stdout",
     "output_type": "stream",
     "text": [
      "200\n",
      "{'User-Agent': 'Mozilla/5.0 (Windows NT 10.0; Win64; x64) AppleWebKit/537.36 (KHTML, like Gecko) Chrome/112.0.0.0 Safari/537.36 Edg/112.0.1722.68', 'Accept-Encoding': 'gzip, deflate', 'Accept': '*/*', 'Connection': 'keep-alive'}\n",
      "https://api.genderize.io/?name=Alex\n",
      "{'count': 1114390, 'gender': 'male', 'name': 'Alex', 'probability': 0.96}\n"
     ]
    }
   ],
   "source": [
    "url = \"https://api.genderize.io/\"\n",
    "# cu libraria requests, query params le putem trimite si printr-un dict\n",
    "query_params = {\"name\": \"Alex\"}\n",
    "headers = {'User-Agent': 'Mozilla/5.0 (Windows NT 10.0; Win64; x64) AppleWebKit/537.36 (KHTML, like Gecko) Chrome/112.0.0.0 Safari/537.36 Edg/112.0.1722.68', \n",
    "           'Accept-Encoding': 'gzip, deflate', \n",
    "           'Accept': '*/*', \n",
    "           'Connection': 'keep-alive'}\n",
    "\n",
    "r = requests.get(url, params=query_params, headers=headers)\n",
    "\n",
    "print(r.status_code)\n",
    "print(r.request.headers)\n",
    "print(r.url)\n",
    "print(r.json())"
   ]
  },
  {
   "cell_type": "markdown",
   "id": "7981dd53",
   "metadata": {},
   "source": [
    "# Flask"
   ]
  },
  {
   "cell_type": "code",
   "execution_count": null,
   "id": "e042fcd3",
   "metadata": {},
   "outputs": [],
   "source": [
    "# flask e un micro web-framework scsris in Python\n",
    "# web-framework-urile sunt librarii care ofera portiuni de cod (clase, functii) gata implementate, cu \n",
    "# utilitatea de a rezolva problemele/task-uri uzuale din programarea web (sunt un fel de fundatie/schita pentru a crea o app web)\n"
   ]
  },
  {
   "cell_type": "code",
   "execution_count": null,
   "id": "70c62b66",
   "metadata": {},
   "outputs": [],
   "source": [
    "# Pentru a testa REST APIs, implementati o aplicatie de gestiune a unei biblioteci (operatii CRUD)\n",
    "# utilizand ca baza de date dictionarul:\n",
    "library_db = {\n",
    "    \"books\": [\n",
    "        {\n",
    "            \"id\": \"buid1\"\n",
    "            \"title\": \"A song of ice and fire 1\",\n",
    "            \"author\": \"George R. R. Martin\",\n",
    "            \"pages\": 700,\n",
    "            \"category\": \"Fantasy\"\n",
    "        },\n",
    "        {\n",
    "            \"id\": \"buid2\"\n",
    "            \"title\": \"Moara cu noroc\",\n",
    "            \"author\": \"Ioan Slavici\",\n",
    "            \"pages\": 50,\n",
    "            \"category\": \"Nouvel\"\n",
    "        }\n",
    "    ],\n",
    "    \"users\": [\n",
    "        {\n",
    "            \"id\": \"uuid1\",\n",
    "            \"name\": \"primul\",\n",
    "            \"email\": \"primul@mylib.com\",\n",
    "            \"password\": \"1111\",\n",
    "            \"is_logged\": False\n",
    "        },\n",
    "        {\n",
    "            \"id\": \"uuid2\",\n",
    "            \"name\": \"second\",\n",
    "            \"email\": \"second@mylib.com\",\n",
    "            \"password\": \"2222\",\n",
    "            \"is_logged\": False\n",
    "        },\n",
    "        {\n",
    "            \"id\": \"uuid3\",\n",
    "            \"name\": \"terzo\",\n",
    "            \"email\": \"terzo@mylib.com\",\n",
    "            \"password\": \"3333\",\n",
    "            \"is_logged\": False\n",
    "        },\n",
    "    ]\n",
    "}"
   ]
  },
  {
   "cell_type": "code",
   "execution_count": 10,
   "id": "cecf7130",
   "metadata": {},
   "outputs": [],
   "source": []
  },
  {
   "cell_type": "code",
   "execution_count": 11,
   "id": "5b17cc96",
   "metadata": {},
   "outputs": [
    {
     "name": "stdout",
     "output_type": "stream",
     "text": [
      "200\n",
      "{'message': 'Hello Pythonistas!!'}\n"
     ]
    }
   ],
   "source": [
    "url = \"http://localhost:5000/\"\n",
    "r = requests.get(url)\n",
    "print(r.status_code)\n",
    "print(r.json())"
   ]
  },
  {
   "cell_type": "code",
   "execution_count": 27,
   "id": "e56c2fa1",
   "metadata": {},
   "outputs": [
    {
     "name": "stdout",
     "output_type": "stream",
     "text": [
      "200\n",
      "{'response_mesage': 'Hello, the message to display is: Buna seara!'}\n",
      "<class 'dict'>\n"
     ]
    }
   ],
   "source": [
    "url = \"http://localhost:5000/display_message\"\n",
    "r = requests.post(url, json={\"message\": \"Buna seara!\"})\n",
    "\n",
    "print(r.status_code)\n",
    "print(r.json())\n",
    "response = r.json()\n",
    "print(type(response))"
   ]
  },
  {
   "cell_type": "code",
   "execution_count": 12,
   "id": "586ba4d2",
   "metadata": {},
   "outputs": [],
   "source": [
    "requests.post?"
   ]
  },
  {
   "cell_type": "code",
   "execution_count": 20,
   "id": "f0f4e3b7",
   "metadata": {},
   "outputs": [
    {
     "ename": "SyntaxError",
     "evalue": "invalid syntax (2822689648.py, line 1)",
     "output_type": "error",
     "traceback": [
      "\u001b[1;36m  Cell \u001b[1;32mIn [20], line 1\u001b[1;36m\u001b[0m\n\u001b[1;33m    s = \"Numele meu este \"Moldovan Vlad\"\"\u001b[0m\n\u001b[1;37m                          ^\u001b[0m\n\u001b[1;31mSyntaxError\u001b[0m\u001b[1;31m:\u001b[0m invalid syntax\n"
     ]
    }
   ],
   "source": [
    "s = \"Numele meu este \"Moldovan Vlad\"\"   # !atentie daca vreti sa adaugati ghilimele in interiorul unui \n",
    "# string trebui neaparat sa folositi ghilimele diferite fata de cele folosite pentru string sau sa folositi \n",
    "# caracterul escape \\\n",
    "print(s)"
   ]
  },
  {
   "cell_type": "code",
   "execution_count": 21,
   "id": "d4a36592",
   "metadata": {},
   "outputs": [
    {
     "name": "stdout",
     "output_type": "stream",
     "text": [
      "Numele meu este \"Moldovan Vlad\"\n"
     ]
    }
   ],
   "source": [
    "s = 'Numele meu este \"Moldovan Vlad\"'\n",
    "print(s)"
   ]
  },
  {
   "cell_type": "code",
   "execution_count": 22,
   "id": "0bb5f754",
   "metadata": {},
   "outputs": [
    {
     "data": {
      "text/plain": [
       "\"Numele meu este 'Moldovan Vlad'\""
      ]
     },
     "execution_count": 22,
     "metadata": {},
     "output_type": "execute_result"
    }
   ],
   "source": [
    "s = 'Numele meu este \\'Moldovan Vlad\\''\n",
    "s"
   ]
  },
  {
   "cell_type": "code",
   "execution_count": 28,
   "id": "c3b78f45",
   "metadata": {},
   "outputs": [
    {
     "name": "stdout",
     "output_type": "stream",
     "text": [
      "200\n",
      "[{'id': 'buid1', 'title': 'A song of ice and fire 1', 'author': 'George R. R. Martin', 'pages': 700, 'category': 'Fantasy'}, {'id': 'buid2', 'title': 'Moara cu noroc', 'author': 'Ioan Slavici', 'pages': 50, 'category': 'Nouvel'}]\n"
     ]
    }
   ],
   "source": [
    "# testam API-ul de citire a tuturor cartilor din DB\n",
    "r = requests.get(\"http://localhost:5000/books\")\n",
    "\n",
    "print(r.status_code)\n",
    "print(r.json())\n"
   ]
  },
  {
   "cell_type": "code",
   "execution_count": 42,
   "id": "c2186891",
   "metadata": {},
   "outputs": [
    {
     "name": "stdout",
     "output_type": "stream",
     "text": [
      "200\n",
      "{'id': 'buid1', 'title': 'A song of ice and fire 1', 'author': 'George R. R. Martin', 'pages': 700, 'category': 'Fantasy'}\n"
     ]
    }
   ],
   "source": [
    "# testam API-ul de citire a unei carti dupa id\n",
    "r = requests.get(\"http://localhost:5000/books/buid1\")\n",
    "\n",
    "print(r.status_code)\n",
    "print(r.json())\n"
   ]
  },
  {
   "cell_type": "code",
   "execution_count": 41,
   "id": "6a9e164a",
   "metadata": {},
   "outputs": [
    {
     "name": "stdout",
     "output_type": "stream",
     "text": [
      "404\n",
      "{'response_message': 'The book with id buid3 has not been found in DB.'}\n"
     ]
    }
   ],
   "source": [
    "# testam API-ul de citire a unei carti dupa id\n",
    "r = requests.get(\"http://localhost:5000/books/buid3\")\n",
    "\n",
    "print(r.status_code)\n",
    "print(r.json())\n"
   ]
  },
  {
   "cell_type": "code",
   "execution_count": 35,
   "id": "462b9aa1",
   "metadata": {},
   "outputs": [
    {
     "name": "stdout",
     "output_type": "stream",
     "text": [
      "{'id': 'buid1', 'title': 'A song of ice and fire 1', 'author': 'George R. R. Martin', 'pages': 700, 'category': 'Fantasy'}\n"
     ]
    }
   ],
   "source": [
    "# Vrem sa cautam in dict-ul fake_library_db, cartea cu id book_id = \"buid1\"\n",
    "fake_library_db = {\n",
    "    \"books\": [\n",
    "        {\n",
    "            \"id\": \"buid1\",\n",
    "            \"title\": \"A song of ice and fire 1\",\n",
    "            \"author\": \"George R. R. Martin\",\n",
    "            \"pages\": 700,\n",
    "            \"category\": \"Fantasy\"\n",
    "        },\n",
    "        {\n",
    "            \"id\": \"buid2\",\n",
    "            \"title\": \"Moara cu noroc\",\n",
    "            \"author\": \"Ioan Slavici\",\n",
    "            \"pages\": 50,\n",
    "            \"category\": \"Nouvel\"\n",
    "        }\n",
    "    ],\n",
    "    \"users\": []\n",
    "}\n",
    "book_id_to_find = \"buid1\"\n",
    "for book_dict in fake_library_db[\"books\"]:\n",
    "    if book_dict['id'] == book_id_to_find:\n",
    "        print(book_dict)"
   ]
  },
  {
   "cell_type": "code",
   "execution_count": 48,
   "id": "312da738",
   "metadata": {},
   "outputs": [
    {
     "name": "stdout",
     "output_type": "stream",
     "text": [
      "201\n",
      "{'response_message': 'User with id 51477669-5645-4f36-b0d3-b341f44ae66b has been successfully created'}\n"
     ]
    }
   ],
   "source": [
    "# testam API de crearea si adaugare in DB a unei carti\n",
    "book_to_add = {\n",
    "#             \"id\": \"buid1\",  # in general id se asigneaza automat de catre server\n",
    "            \"title\": \"Think and grow rich\",\n",
    "            \"author\": \"Napoleon Hill\",\n",
    "            \"pages\": 250,\n",
    "            \"category\": \"Personal development\"\n",
    "}\n",
    "r = requests.post(\"http://localhost:5000/books/add\", json=book_to_add)\n",
    "\n",
    "print(r.status_code)\n",
    "print(r.json())"
   ]
  },
  {
   "cell_type": "code",
   "execution_count": 50,
   "id": "1a988dbe",
   "metadata": {},
   "outputs": [
    {
     "name": "stdout",
     "output_type": "stream",
     "text": [
      "200\n",
      "{'title': 'Think and grow rich', 'author': 'Napoleon Hill', 'pages': 250, 'category': 'Personal development', 'id': '51477669-5645-4f36-b0d3-b341f44ae66b'}\n",
      "200\n",
      "[{'id': 'buid1', 'title': 'A song of ice and fire 1', 'author': 'George R. R. Martin', 'pages': 700, 'category': 'Fantasy'}, {'id': 'buid2', 'title': 'Moara cu noroc', 'author': 'Ioan Slavici', 'pages': 50, 'category': 'Nouvel'}, {'title': 'Think and grow rich', 'author': 'Napoleon Hill', 'pages': 250, 'category': 'Personal development', 'id': '51477669-5645-4f36-b0d3-b341f44ae66b'}]\n"
     ]
    }
   ],
   "source": [
    "r = requests.get(\"http://localhost:5000/books/51477669-5645-4f36-b0d3-b341f44ae66b\")\n",
    "print(r.status_code)\n",
    "print(r.json())\n",
    "\n",
    "r = requests.get(\"http://localhost:5000/books\")\n",
    "print(r.status_code)\n",
    "print(r.json())"
   ]
  },
  {
   "cell_type": "code",
   "execution_count": 46,
   "id": "393b81a7",
   "metadata": {},
   "outputs": [
    {
     "data": {
      "text/plain": [
       "'b761d194-a3bb-4c17-860e-4a364b7d6a9c'"
      ]
     },
     "execution_count": 46,
     "metadata": {},
     "output_type": "execute_result"
    }
   ],
   "source": [
    "# Pt a va genera id-uri random care sa respecte conventia uuid, puteti folosi modulul uuid din lib std Python\n",
    "import uuid\n",
    "str(uuid.uuid4())"
   ]
  },
  {
   "cell_type": "code",
   "execution_count": 53,
   "id": "4a302f84",
   "metadata": {},
   "outputs": [
    {
     "data": {
      "text/plain": [
       "[100, 300]"
      ]
     },
     "execution_count": 53,
     "metadata": {},
     "output_type": "execute_result"
    }
   ],
   "source": [
    "lst = [100,200,300]\n",
    "# vrem sa sterge 200\n",
    "lst.remove(200)\n",
    "lst"
   ]
  },
  {
   "cell_type": "code",
   "execution_count": 59,
   "id": "1e245c5f",
   "metadata": {},
   "outputs": [
    {
     "data": {
      "text/plain": [
       "[{'id': 'buid2', 'title': 'Moara cu...'}]"
      ]
     },
     "execution_count": 59,
     "metadata": {},
     "output_type": "execute_result"
    }
   ],
   "source": [
    "lst = [{'id': 'buid1', 'title': 'A song of...'}, {'id': 'buid2', 'title': 'Moara cu...'}]\n",
    "# Cum stergem din lista dictul cu id='buid1'??\n",
    "for elem in lst:\n",
    "#     print(elem)\n",
    "    if elem['id'] == 'buid1':\n",
    "        lst.remove(elem)\n",
    "lst"
   ]
  },
  {
   "cell_type": "code",
   "execution_count": 60,
   "id": "7b665b08",
   "metadata": {},
   "outputs": [
    {
     "name": "stdout",
     "output_type": "stream",
     "text": [
      "200\n",
      "{'response_message': 'The book with id buid1 has been successfully removed from DB.'}\n"
     ]
    }
   ],
   "source": [
    "# Testam API de delete\n",
    "r = requests.delete(\"http://localhost:5000/books/delete/buid1\")\n",
    "print(r.status_code)\n",
    "print(r.json())\n"
   ]
  },
  {
   "cell_type": "code",
   "execution_count": 61,
   "id": "36eb34b5",
   "metadata": {},
   "outputs": [
    {
     "name": "stdout",
     "output_type": "stream",
     "text": [
      "404\n",
      "{'response_message': 'The book with id buid1 has not been found in DB.'}\n"
     ]
    }
   ],
   "source": [
    "r = requests.delete(\"http://localhost:5000/books/delete/buid1\")\n",
    "print(r.status_code)\n",
    "print(r.json())"
   ]
  },
  {
   "cell_type": "code",
   "execution_count": 71,
   "id": "94225e08",
   "metadata": {},
   "outputs": [
    {
     "name": "stdout",
     "output_type": "stream",
     "text": [
      "200\n",
      "{'response_message': 'The book with id buid1 has been successfully updated in DB.'}\n",
      "200\n",
      "{'id': 'buid1', 'title': 'A song of ice and fire 1', 'author': 'George R. R. Martin', 'pages': 700, 'category': 'Epic Fantasy'}\n"
     ]
    }
   ],
   "source": [
    "# Testam API de update\n",
    "updated_book = {\"category\": \"Epic Fantasy\"}\n",
    "r = requests.patch(\"http://localhost:5000/books/update/buid1\", json=updated_book)\n",
    "print(r.status_code)\n",
    "print(r.json())\n",
    "\n",
    "r = requests.get(\"http://localhost:5000/books/buid1\")\n",
    "print(r.status_code)\n",
    "print(r.json())"
   ]
  },
  {
   "cell_type": "code",
   "execution_count": 67,
   "id": "13a21531",
   "metadata": {},
   "outputs": [
    {
     "data": {
      "text/plain": [
       "{'title': 'Think and grow rich',\n",
       " 'author': 'Napoleon Hill',\n",
       " 'pages': 300,\n",
       " 'category': 'Growth'}"
      ]
     },
     "execution_count": 67,
     "metadata": {},
     "output_type": "execute_result"
    }
   ],
   "source": [
    "book = {\n",
    "            \"title\": \"Think and grow rich\",\n",
    "            \"author\": \"Napoleon Hill\",\n",
    "            \"pages\": 250,\n",
    "            \"category\": \"Personal development\"\n",
    "}\n",
    "\n",
    "updated_book = {\"category\": \"Growth\", \"pages\": 300}\n",
    "# book[\"category\"] = updated_book[\"category\"]\n",
    "book.update(updated_book)\n",
    "# book = updated_book\n",
    "book"
   ]
  },
  {
   "cell_type": "code",
   "execution_count": 69,
   "id": "51194de2",
   "metadata": {},
   "outputs": [
    {
     "data": {
      "text/plain": [
       "[{'id': 'buid1', 'title': 'A song of ice and fire.'},\n",
       " {'id': 'buid2', 'title': 'Moara cu...'}]"
      ]
     },
     "execution_count": 69,
     "metadata": {},
     "output_type": "execute_result"
    }
   ],
   "source": [
    "lst = [{'id': 'buid1', 'title': 'A song of...'}, {'id': 'buid2', 'title': 'Moara cu...'}]\n",
    "\n",
    "for elem in lst:\n",
    "    if elem['id'] == 'buid1':\n",
    "        elem.update({'title': \"A song of ice and fire.\"})\n",
    "lst"
   ]
  },
  {
   "cell_type": "code",
   "execution_count": null,
   "id": "8f3e9bf8",
   "metadata": {},
   "outputs": [],
   "source": []
  }
 ],
 "metadata": {
  "kernelspec": {
   "display_name": "Python 3 (ipykernel)",
   "language": "python",
   "name": "python3"
  },
  "language_info": {
   "codemirror_mode": {
    "name": "ipython",
    "version": 3
   },
   "file_extension": ".py",
   "mimetype": "text/x-python",
   "name": "python",
   "nbconvert_exporter": "python",
   "pygments_lexer": "ipython3",
   "version": "3.11.2"
  }
 },
 "nbformat": 4,
 "nbformat_minor": 5
}
